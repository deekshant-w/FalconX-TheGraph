{
 "cells": [
  {
   "cell_type": "markdown",
   "id": "artificial-advertiser",
   "metadata": {},
   "source": [
    "## Importing Libraries"
   ]
  },
  {
   "cell_type": "code",
   "execution_count": null,
   "id": "binary-guyana",
   "metadata": {},
   "outputs": [],
   "source": [
    "import requests\n",
    "import pandas as pd\n",
    "import json\n",
    "import matplotlib.pyplot as plt\n",
    "import seaborn as sns\n",
    "import numpy as np\n",
    "import datetime\n",
    "import time\n",
    "\n",
    "sns.set()\n",
    "%matplotlib notebook"
   ]
  },
  {
   "cell_type": "markdown",
   "id": "usual-texture",
   "metadata": {},
   "source": [
    "## Extracting Data"
   ]
  },
  {
   "cell_type": "code",
   "execution_count": null,
   "id": "macro-anger",
   "metadata": {},
   "outputs": [],
   "source": [
    "query = \"\"\"{\n",
    "  pairs(first:1000){\n",
    "    token0{\n",
    "      symbol\n",
    "      name\n",
    "      tradeVolume\n",
    "      totalLiquidity\n",
    "    }\n",
    "    token1{\n",
    "      symbol\n",
    "      name\n",
    "      tradeVolume\n",
    "      totalLiquidity\n",
    "    }\n",
    "    volumeUSD\n",
    "    createdAtTimestamp\n",
    "    createdAtBlockNumber\n",
    "  }\n",
    "}\"\"\"\n",
    "\n",
    "url = \"https://api.thegraph.com/subgraphs/name/uniswap/uniswap-v2\""
   ]
  },
  {
   "cell_type": "code",
   "execution_count": null,
   "id": "welcome-induction",
   "metadata": {},
   "outputs": [],
   "source": [
    "r = requests.post(url, json={'query': query})\n",
    "# print(r.text)"
   ]
  },
  {
   "cell_type": "markdown",
   "id": "emerging-episode",
   "metadata": {},
   "source": [
    "## Data Processing"
   ]
  },
  {
   "cell_type": "code",
   "execution_count": null,
   "id": "medical-method",
   "metadata": {},
   "outputs": [],
   "source": [
    "#here USP is UNI \n",
    "data = json.loads(r.text)['data']['pairs']\n",
    "cleanedData = [{\n",
    "    \"Timestamp\":datetime.datetime.fromtimestamp(int(obj['createdAtTimestamp'])),\n",
    "    \"Base Currency Symbol\":obj['token0']['symbol'],\n",
    "    \"Base Currency Name\":obj['token0']['name'],\n",
    "    \"Quote Currency Symbol\":obj['token1']['symbol'],\n",
    "    \"Quote Currency Name\":obj['token1']['name'],\n",
    "    \"Base currency quantity traded\":float(obj['token0']['tradeVolume']),\n",
    "    \"Quote currency quantity traded\":float(obj['token1']['tradeVolume']),\n",
    "    \"Volume in USD\":float(obj['volumeUSD']),\n",
    "    \"Liquidity in pool\":float(obj['token0']['totalLiquidity'])+float(obj['token1']['totalLiquidity']),\n",
    "    \"Pool ID\":obj[\"createdAtBlockNumber\"]\n",
    "} for obj in data if obj['token0']['symbol'] in ['WETH',\"USP\"] and obj['token1']['symbol'] in ['WETH',\"USP\"]]"
   ]
  },
  {
   "cell_type": "code",
   "execution_count": null,
   "id": "respective-coordinator",
   "metadata": {},
   "outputs": [],
   "source": [
    "df = pd.DataFrame(cleanedData)\n",
    "df['Side'] = np.where(df[\"Base Currency Symbol\"]==\"USP\",\"BUY\",\"SELL\")"
   ]
  },
  {
   "cell_type": "code",
   "execution_count": null,
   "id": "suspected-hampshire",
   "metadata": {},
   "outputs": [],
   "source": [
    "df"
   ]
  },
  {
   "cell_type": "code",
   "execution_count": null,
   "id": "beginning-johns",
   "metadata": {},
   "outputs": [],
   "source": []
  },
  {
   "cell_type": "code",
   "execution_count": null,
   "id": "synthetic-definition",
   "metadata": {},
   "outputs": [],
   "source": []
  },
  {
   "cell_type": "markdown",
   "id": "unsigned-million",
   "metadata": {},
   "source": [
    "### Data Resampling (Pending)"
   ]
  },
  {
   "cell_type": "code",
   "execution_count": null,
   "id": "thirty-gross",
   "metadata": {},
   "outputs": [],
   "source": [
    "df.resample"
   ]
  },
  {
   "cell_type": "code",
   "execution_count": null,
   "id": "municipal-exploration",
   "metadata": {},
   "outputs": [],
   "source": []
  },
  {
   "cell_type": "markdown",
   "id": "involved-baseline",
   "metadata": {},
   "source": [
    "### Analytics (Pending)"
   ]
  },
  {
   "cell_type": "code",
   "execution_count": null,
   "id": "measured-scenario",
   "metadata": {},
   "outputs": [],
   "source": [
    "df.plot"
   ]
  },
  {
   "cell_type": "code",
   "execution_count": null,
   "id": "electronic-imaging",
   "metadata": {},
   "outputs": [],
   "source": []
  }
 ],
 "metadata": {
  "kernelspec": {
   "display_name": "Python 3",
   "language": "python",
   "name": "python3"
  },
  "language_info": {
   "codemirror_mode": {
    "name": "ipython",
    "version": 3
   },
   "file_extension": ".py",
   "mimetype": "text/x-python",
   "name": "python",
   "nbconvert_exporter": "python",
   "pygments_lexer": "ipython3",
   "version": "3.8.5"
  }
 },
 "nbformat": 4,
 "nbformat_minor": 5
}
